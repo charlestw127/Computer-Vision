{
  "nbformat": 4,
  "nbformat_minor": 0,
  "metadata": {
    "colab": {
      "provenance": []
    },
    "kernelspec": {
      "name": "python3",
      "display_name": "Python 3"
    },
    "language_info": {
      "name": "python"
    }
  },
  "cells": [
    {
      "cell_type": "code",
      "execution_count": 109,
      "metadata": {
        "id": "mDDBNfRto3Rd"
      },
      "outputs": [],
      "source": [
        "#Charles Wallis | CTW170000 | CS4391.001 Computer Vision | 2/26/2023\n",
        "import numpy as np\n",
        "import cv2"
      ]
    },
    {
      "cell_type": "code",
      "source": [
        "#load input image\n",
        "#img = cv2.imread('lena30.jpg')\n",
        "img = cv2.imread('lena_gray.bmp', cv2.IMREAD_GRAYSCALE)"
      ],
      "metadata": {
        "id": "sJ4aVQVapxHR"
      },
      "execution_count": 110,
      "outputs": []
    },
    {
      "cell_type": "code",
      "source": [
        "img"
      ],
      "metadata": {
        "colab": {
          "base_uri": "https://localhost:8080/"
        },
        "id": "TXi_dFxOqDgX",
        "outputId": "3941eed1-bc3c-4409-f989-b764762df380"
      },
      "execution_count": 111,
      "outputs": [
        {
          "output_type": "execute_result",
          "data": {
            "text/plain": [
              "array([[160, 160, 160, ..., 169, 154, 129],\n",
              "       [161, 160, 159, ..., 168, 154, 129],\n",
              "       [160, 161, 160, ..., 168, 154, 129],\n",
              "       ...,\n",
              "       [ 50,  49,  55, ..., 106, 103, 104],\n",
              "       [ 49,  50,  58, ..., 107, 109, 111],\n",
              "       [ 50,  49,  59, ..., 107, 108, 112]], dtype=uint8)"
            ]
          },
          "metadata": {},
          "execution_count": 111
        }
      ]
    },
    {
      "cell_type": "code",
      "source": [
        "#create a function to process images through the filter\n",
        "def filterImage(img, kernel):\n",
        "    kernel_size = kernel.shape[0]\n",
        "    padded_img = np.pad(img, (kernel_size // 2,), mode='edge')\n",
        "    result = np.zeros_like(img)\n",
        "    for i in range(result.shape[0]):\n",
        "        for j in range(result.shape[1]):\n",
        "            result[i, j] = np.sum(\n",
        "                padded_img[i:i+kernel_size, j:j+kernel_size] * kernel\n",
        "            )\n",
        "    return result"
      ],
      "metadata": {
        "id": "hkuGURI5t2nE"
      },
      "execution_count": 112,
      "outputs": []
    },
    {
      "cell_type": "code",
      "source": [
        "#filter kernel for box blur\n",
        "box_k = np.ones((7, 7), np.float32) / 49\n",
        "\n",
        "#filter kernel for gaussian blur\n",
        "gaussian_k = np.outer(\n",
        "    np.exp(-np.arange(-7, 8) ** 2 / (2 * 15 ** 2)),\n",
        "    np.exp(-np.arange(-7, 8) ** 2 / (2 * 15 ** 2)))\n",
        "gaussian_k /= np.sum(gaussian_k)\n",
        "\n",
        "#filter kernel for motion blur\n",
        "motion_k = np.zeros((15, 15))\n",
        "motion_k[int((15-1)/2), :] = np.ones(15)\n",
        "motion_k /= 15\n",
        "\n",
        "#filter kernel for laplacian sharpening\n",
        "laplacian_k = np.array([[0, 1, 0], [1, -4, 1], [0, 1, 0]])\n",
        "\n",
        "#filter kernel for canny edge detection\n",
        "canny_k = np.array([[-1, -1, -1], [-1, 8, -1], [-1, -1, -1]])"
      ],
      "metadata": {
        "id": "QEwhXstjqLgO"
      },
      "execution_count": 113,
      "outputs": []
    },
    {
      "cell_type": "code",
      "source": [
        "#applying kernel filters to input image and saving them\n",
        "box_blur = filterImage(img, box_k)\n",
        "gaussian = filterImage(img, gaussian_k)\n",
        "motion_blur = filterImage(img, motion_k)\n",
        "laplacian_sharpen = filterImage(img, laplacian_k)\n",
        "canny_edge_detect = filterImage(img, canny_k)"
      ],
      "metadata": {
        "id": "YxJwa-9sqSU2"
      },
      "execution_count": 114,
      "outputs": []
    },
    {
      "cell_type": "code",
      "source": [
        "#outputting the result images\n",
        "cv2.imwrite('box_blur.jpg', box_blur)\n",
        "cv2.imwrite('gaussian.jpg', gaussian)\n",
        "cv2.imwrite('motion_blur.jpg', motion_blur)\n",
        "cv2.imwrite('laplacian_sharpen.jpg', laplacian_sharpen)\n",
        "cv2.imwrite('canny_edge_detect.jpg', canny_edge_detect)"
      ],
      "metadata": {
        "colab": {
          "base_uri": "https://localhost:8080/"
        },
        "id": "KBEv9cB2qX6W",
        "outputId": "1f68bbca-d3db-49c0-9c62-165b39a87180"
      },
      "execution_count": 115,
      "outputs": [
        {
          "output_type": "execute_result",
          "data": {
            "text/plain": [
              "True"
            ]
          },
          "metadata": {},
          "execution_count": 115
        }
      ]
    },
    {
      "cell_type": "code",
      "source": [
        "#laplacian_fromCV2 = cv2.filter2D(img, -1, laplacian_k)\n",
        "#cv2.imwrite('laplacian_cv2.jpg', laplacian_fromCV2)\n",
        "\n",
        "#canny_fromCV2 = cv2.filter2D(img, -1, canny_k)\n",
        "#cv2.imwrite('canny_edge_cv2.jpg', canny_fromCV2)"
      ],
      "metadata": {
        "id": "DNS2Xoo8yU0u"
      },
      "execution_count": 116,
      "outputs": []
    }
  ]
}